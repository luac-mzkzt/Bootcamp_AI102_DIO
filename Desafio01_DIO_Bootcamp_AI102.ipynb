{
  "nbformat": 4,
  "nbformat_minor": 0,
  "metadata": {
    "colab": {
      "provenance": [],
      "toc_visible": true
    },
    "kernelspec": {
      "name": "python3",
      "display_name": "Python 3"
    },
    "language_info": {
      "name": "python"
    }
  },
  "cells": [
    {
      "cell_type": "markdown",
      "source": [
        "# **Tradução de Texto - Translator**"
      ],
      "metadata": {
        "id": "nhfeDMlwyYeE"
      }
    },
    {
      "cell_type": "code",
      "execution_count": null,
      "metadata": {
        "id": "7j-mQbbVW9za",
        "colab": {
          "base_uri": "https://localhost:8080/"
        },
        "outputId": "08aa1275-c636-447a-c9c3-58e29d41c721"
      },
      "outputs": [
        {
          "output_type": "stream",
          "name": "stdout",
          "text": [
            "Requirement already satisfied: requests in /usr/local/lib/python3.10/dist-packages (2.32.3)\n",
            "Requirement already satisfied: python-docx in /usr/local/lib/python3.10/dist-packages (1.1.2)\n",
            "Requirement already satisfied: python-dotenv in /usr/local/lib/python3.10/dist-packages (1.0.1)\n",
            "Requirement already satisfied: charset-normalizer<4,>=2 in /usr/local/lib/python3.10/dist-packages (from requests) (3.4.0)\n",
            "Requirement already satisfied: idna<4,>=2.5 in /usr/local/lib/python3.10/dist-packages (from requests) (3.10)\n",
            "Requirement already satisfied: urllib3<3,>=1.21.1 in /usr/local/lib/python3.10/dist-packages (from requests) (2.2.3)\n",
            "Requirement already satisfied: certifi>=2017.4.17 in /usr/local/lib/python3.10/dist-packages (from requests) (2024.8.30)\n",
            "Requirement already satisfied: lxml>=3.1.0 in /usr/local/lib/python3.10/dist-packages (from python-docx) (5.3.0)\n",
            "Requirement already satisfied: typing-extensions>=4.9.0 in /usr/local/lib/python3.10/dist-packages (from python-docx) (4.12.2)\n"
          ]
        }
      ],
      "source": [
        "!pip install requests python-docx python-dotenv"
      ]
    },
    {
      "cell_type": "code",
      "source": [
        "from google.colab import files\n",
        "\n",
        "# Fazer upload do arquivo .env com variáveis de ambiente do Translator\n",
        "uploaded = files.upload()"
      ],
      "metadata": {
        "id": "YhUPEd6csu62"
      },
      "execution_count": null,
      "outputs": []
    },
    {
      "cell_type": "code",
      "source": [
        "from dotenv import load_dotenv\n",
        "from docx import Document\n",
        "import requests\n",
        "import os\n",
        "\n",
        "# Carregar as variáveis do arquivo .env\n",
        "load_dotenv('translator.env')\n",
        "\n",
        "# Acessar as variáveis\n",
        "subscription_key = os.getenv('AZURE_TRANSLATOR_KEY')\n",
        "endpoint = os.getenv('AZURE_TRANSLATOR_ENDPOINT')\n",
        "location = os.getenv('AZURE_TRANSLATOR_LOCATION')\n",
        "\n",
        "# Definição do idioma de tradução\n",
        "language_destination = 'pt-br'\n",
        "\n",
        "# Função para tradução de textos\n",
        "def translator_text(text, target_language):\n",
        "    path = '/translate'\n",
        "    constructed_url = endpoint + path\n",
        "    headers = {\n",
        "        'Ocp-Apim-Subscription-Key': subscription_key,\n",
        "        'Ocp-Apim-Subscription-Region': location,\n",
        "        'Content-type': 'application/json',\n",
        "        'X-ClientTraceId': str(os.urandom(16))\n",
        "    }\n",
        "\n",
        "    body = [{'text': text}]\n",
        "    params = {'api-version': '3.0', 'from': 'en', 'to': [target_language]}\n",
        "\n",
        "    request = requests.post(constructed_url, headers=headers, params=params, json=body)\n",
        "    response = request.json()\n",
        "    return response[0]['translations'][0]['text']\n",
        "\n",
        "# Chamada para a função passando os parâmetros do texto a ser traduzido e o idioma\n",
        "translator_text(\"You need someone to hold you tight\", language_destination)\n"
      ],
      "metadata": {
        "id": "3fQWAHjVkyq0"
      },
      "execution_count": null,
      "outputs": []
    },
    {
      "cell_type": "markdown",
      "source": [
        "# **Tradução de Documentos - Translator**"
      ],
      "metadata": {
        "id": "_FD6oip3yLdU"
      }
    },
    {
      "cell_type": "code",
      "source": [
        "# Fazer upload do documento que será traduzido\n",
        "uploaded = files.upload()"
      ],
      "metadata": {
        "id": "3_hI88r5yBi0"
      },
      "execution_count": null,
      "outputs": []
    },
    {
      "cell_type": "code",
      "source": [
        "# Função para tradução de documentos\n",
        "def translate_document(path):\n",
        "  document = Document(path)\n",
        "  full_text = []\n",
        "  for paragraph in document.paragraphs:\n",
        "    translated_text = translator_text(paragraph.text, language_destination)\n",
        "    full_text.append(translated_text)\n",
        "\n",
        "  translated_doc = Document()\n",
        "  for line in full_text:\n",
        "    translated_doc.add_paragraph(line)\n",
        "  path_translated = path.replace('.docx', f\"_{language_destination}.docx\")\n",
        "  translated_doc.save(path_translated)\n",
        "  return path_translated"
      ],
      "metadata": {
        "id": "QCsbGum5yyCf"
      },
      "execution_count": null,
      "outputs": []
    },
    {
      "cell_type": "code",
      "source": [
        "  # Caminho do documento\n",
        "  input_file = \"/content/Tainted_Love.docx\"\n",
        "\n",
        "  # Chamada para a função de tradução de documento passando o caminho do documento como parâmetro\n",
        "  translate_document(input_file)"
      ],
      "metadata": {
        "id": "MMsdEqHc1Cs8"
      },
      "execution_count": null,
      "outputs": []
    },
    {
      "cell_type": "markdown",
      "source": [
        "# **Tradução de Artigos Online - Translator**"
      ],
      "metadata": {
        "id": "ODfk8hld2Z6U"
      }
    },
    {
      "cell_type": "code",
      "source": [
        "!pip install requests beautifulsoup4 openai langchain-openai"
      ],
      "metadata": {
        "id": "mD5ZfIFQ2fk9"
      },
      "execution_count": null,
      "outputs": []
    },
    {
      "cell_type": "code",
      "source": [
        "import requests\n",
        "from bs4 import BeautifulSoup\n",
        "\n",
        "# Função para extrair texto de uma URL\n",
        "def extract_text_from_url(url):\n",
        "    response = requests.get(url)\n",
        "\n",
        "    # Verifica se a resposta da requisição a URL foi bem sucedida\n",
        "    if response.status_code == 200:\n",
        "      soup = BeautifulSoup(response.text, 'html.parser')\n",
        "\n",
        "      # Remove as formatações de script e estilo do texto\n",
        "      for script_or_style in soup([\"script\", \"style\"]):\n",
        "        script_or_style.decompose()\n",
        "      text = soup.get_text(separator = '')\n",
        "      lines = (line.strip() for line in text.splitlines())\n",
        "      chunks = (phrase.strip() for line in lines for phrase in line.split(\"  \"))\n",
        "      text = '\\n'.join(chunk for chunk in chunks if chunk)\n",
        "      return text\n",
        "\n",
        "    # Se a resposta não for bem sucedida, exibe o código de status da resposta\n",
        "    else:\n",
        "        print(f\"Failed to fetch the URL. Status code: {response.status_code}\")\n",
        "        return None\n",
        "\n",
        "# Chamada para a função passando a URL como parâmetro\n",
        "extract_text_from_url('https://dev.to/kenakamu/azure-open-ai-in-vnet-3alo')"
      ],
      "metadata": {
        "id": "AyL2V2vl3cf3"
      },
      "execution_count": null,
      "outputs": []
    },
    {
      "cell_type": "markdown",
      "source": [
        "# **Tradução de Texto - OpenAI**"
      ],
      "metadata": {
        "id": "AobHZFOQ_x8H"
      }
    },
    {
      "cell_type": "code",
      "source": [
        "# Fazer upload do arquivo .env com variáveis de ambiente da OpenAI\n",
        "from google.colab import files\n",
        "\n",
        "uploaded = files.upload()"
      ],
      "metadata": {
        "id": "sBttLmsd9Cdv"
      },
      "execution_count": null,
      "outputs": []
    },
    {
      "cell_type": "code",
      "source": [
        "from langchain_openai.chat_models.azure import AzureChatOpenAI\n",
        "from dotenv import load_dotenv\n",
        "import os\n",
        "\n",
        "# Carregar as variáveis do arquivo .env\n",
        "load_dotenv('oai.env')\n",
        "\n",
        "client = AzureChatOpenAI(\n",
        "    azure_endpoint=os.getenv(\"AZURE_API_ENDPOINT\"),\n",
        "    api_key=os.getenv(\"AZURE_API_KEY\"),\n",
        "    api_version=os.getenv(\"AZURE_API_VERSION\"),\n",
        "    deployment_name=os.getenv(\"AZURE_DEPLOYMENT_NAME\"),\n",
        "    max_retries=0\n",
        ")\n",
        "\n",
        "def translate_article(text, lang):\n",
        "  messages = [\n",
        "      (\"system\", \"Você atua como tradutor de textos\"),\n",
        "      (\"user\", f\"Traduza o {text} para o idioma {lang} e responda em markdown\")\n",
        "  ]\n",
        "\n",
        "  response = client.invoke(messages)\n",
        "  return response.content\n",
        "\n",
        "translate_article(\"Let's deploy and confirm how it works\", \"portugues\")"
      ],
      "metadata": {
        "colab": {
          "base_uri": "https://localhost:8080/",
          "height": 35
        },
        "id": "Rv0UfEFS5yxG",
        "outputId": "627bfbc1-9fff-40d5-bd8b-41ef2d812ee3"
      },
      "execution_count": null,
      "outputs": [
        {
          "output_type": "execute_result",
          "data": {
            "text/plain": [
              "'Vamos implementar e confirmar como funciona.'"
            ],
            "application/vnd.google.colaboratory.intrinsic+json": {
              "type": "string"
            }
          },
          "metadata": {},
          "execution_count": 74
        }
      ]
    },
    {
      "cell_type": "markdown",
      "source": [
        "# **Tradução de Artigos Online - OpenAI**"
      ],
      "metadata": {
        "id": "6nOXsjVRIEPO"
      }
    },
    {
      "cell_type": "code",
      "source": [
        "url = 'https://dev.to/kenakamu/azure-open-ai-in-vnet-3alo'\n",
        "text = extract_text_from_url(url)\n",
        "article = translate_article(text, 'pt-br')\n",
        "\n",
        "print(article)"
      ],
      "metadata": {
        "id": "lKaDwfZDIKhv"
      },
      "execution_count": null,
      "outputs": []
    }
  ]
}